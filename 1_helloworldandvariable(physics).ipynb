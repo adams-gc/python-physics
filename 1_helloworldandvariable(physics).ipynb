{
  "nbformat": 4,
  "nbformat_minor": 0,
  "metadata": {
    "colab": {
      "provenance": [],
      "authorship_tag": "ABX9TyOg00fMLr0hvmM6JSAZon8s",
      "include_colab_link": true
    },
    "kernelspec": {
      "name": "python3",
      "display_name": "Python 3"
    },
    "language_info": {
      "name": "python"
    }
  },
  "cells": [
    {
      "cell_type": "markdown",
      "metadata": {
        "id": "view-in-github",
        "colab_type": "text"
      },
      "source": [
        "<a href=\"https://colab.research.google.com/github/adams-gc/python-physics/blob/main/1_helloworldandvariable(physics).ipynb\" target=\"_parent\"><img src=\"https://colab.research.google.com/assets/colab-badge.svg\" alt=\"Open In Colab\"/></a>"
      ]
    },
    {
      "cell_type": "code",
      "source": [
        "# !pip install vpython"
      ],
      "metadata": {
        "id": "Xa3Hb2losgFb"
      },
      "execution_count": 1,
      "outputs": []
    },
    {
      "cell_type": "code",
      "execution_count": 2,
      "metadata": {
        "id": "EH193Zh8r8a7"
      },
      "outputs": [],
      "source": [
        "from vpython import *"
      ]
    },
    {
      "cell_type": "code",
      "source": [
        "import numpy as np\n",
        "import matplotlib.pyplot as plt\n"
      ],
      "metadata": {
        "id": "9ZrT71DqsRqx"
      },
      "execution_count": 3,
      "outputs": []
    },
    {
      "cell_type": "code",
      "source": [
        "print('hello world',2*4)"
      ],
      "metadata": {
        "colab": {
          "base_uri": "https://localhost:8080/"
        },
        "id": "61-AyaDlsxcZ",
        "outputId": "01088463-2445-41de-d669-280e4584c5e7"
      },
      "execution_count": 4,
      "outputs": [
        {
          "output_type": "stream",
          "name": "stdout",
          "text": [
            "hello world 8\n"
          ]
        }
      ]
    },
    {
      "cell_type": "code",
      "source": [
        "x=1.1\n",
        "y=2.3\n",
        "c=x*y\n",
        "print(c)"
      ],
      "metadata": {
        "colab": {
          "base_uri": "https://localhost:8080/"
        },
        "id": "TCnpGECktHTr",
        "outputId": "a655ba9a-6291-4144-e9a5-bbbe29f80599"
      },
      "execution_count": 5,
      "outputs": [
        {
          "output_type": "stream",
          "name": "stdout",
          "text": [
            "2.53\n"
          ]
        }
      ]
    },
    {
      "cell_type": "code",
      "source": [
        "from os import killpg\n",
        "G=6.67e-11\n",
        "me=6.24e24 #kg\n",
        "re=6.24e6\n",
        "h=23456\n",
        "g=G*me/(re+h)**2\n",
        "print('g=',g,\"n/kg\")\n",
        "z=sqrt(h**2+re**2)\n",
        "print(\"pi=\",pi)\n",
        "theta=30*pi/180\n",
        "f=cos(theta)\n",
        "\n",
        "print('f=',f)"
      ],
      "metadata": {
        "colab": {
          "base_uri": "https://localhost:8080/"
        },
        "id": "pT04nmeXtXwm",
        "outputId": "9034b609-817c-4729-de62-ebc4450c9e63"
      },
      "execution_count": 6,
      "outputs": [
        {
          "output_type": "stream",
          "name": "stdout",
          "text": [
            "g= 10.60919328632183 n/kg\n",
            "pi= 3.141592653589793\n",
            "f= 0.8660254037844387\n"
          ]
        }
      ]
    },
    {
      "cell_type": "code",
      "source": [
        "a=vector(1,2,3)\n",
        "print(a)\n",
        "b=vector(0.3,4,0)\n",
        "c=a+b\n",
        "print('ici',mag(c))\n",
        "print('hat',norm(c))\n",
        "c=3*a\n",
        "print(dot(a,b))\n",
        "print(cross(a,b))"
      ],
      "metadata": {
        "colab": {
          "base_uri": "https://localhost:8080/"
        },
        "id": "F7MkwLlRt0l5",
        "outputId": "a2bc943f-d433-4178-d911-bd57ffae2fc8"
      },
      "execution_count": 7,
      "outputs": [
        {
          "output_type": "stream",
          "name": "stdout",
          "text": [
            "<1, 2, 3>\n",
            "ici 6.833008122342604\n",
            "hat <0.190253, 0.878091, 0.439045>\n",
            "8.3\n",
            "<-12, 0.9, 3.4>\n"
          ]
        }
      ]
    },
    {
      "cell_type": "code",
      "source": [],
      "metadata": {
        "id": "z_a3F_11wemz"
      },
      "execution_count": null,
      "outputs": []
    }
  ]
}